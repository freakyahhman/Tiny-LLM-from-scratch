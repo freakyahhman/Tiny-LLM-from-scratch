{
 "cells": [
  {
   "cell_type": "code",
   "execution_count": 6,
   "id": "9349f3eb",
   "metadata": {},
   "outputs": [
    {
     "name": "stdout",
     "output_type": "stream",
     "text": [
      "torch.Size([2, 4, 128, 64])\n"
     ]
    }
   ],
   "source": [
    "import torch\n",
    "\n",
    "\n",
    "def Computing_RoPE_params(theta: int, dim: int, seq_len: int, dtype=torch.bfloat16):\n",
    "    \"\"\"\n",
    "    Computing the rotate angle for each embedding vector in the sequence.\n",
    "    Args:\n",
    "        theta: a parameter for adjusting the rotate speed.\n",
    "        dim: dimension of the vectors.\n",
    "        seq_len: the sequence length.\n",
    "    Output: the computed params for each vector in the sequence.\n",
    "    \"\"\"\n",
    "    freq = theta ** (-torch.arange(0, dim // 2) / (dim // 2))\n",
    "    freq = freq.to(dtype)\n",
    "    positions = freq[None, :] * torch.arange(seq_len)[:, None].to(dtype)\n",
    "    return positions.cos(), positions.sin()\n",
    "\n",
    "def Apply_RoPE(x: torch.Tensor, cos, sin):\n",
    "    \"\"\"\n",
    "    Apply RoPE to queries or keys.\n",
    "    Args:\n",
    "        x:   [batch, head, seq_len, dim]\n",
    "        cos: [seq_len, dim/2]\n",
    "        sin: [seq_len, dim/2]\n",
    "    Returns:\n",
    "        x_rot: [batch, head, seq_len, dim]\n",
    "    \"\"\"\n",
    "    x1, x2 = x[..., ::2], x[..., 1::2]  # [B, H, L, d_h/2]\n",
    "\n",
    "    # match shape for broadcasting\n",
    "    cos = cos[None, None, :, :]  # [1,1,L,d_h/2]\n",
    "    sin = sin[None, None, :, :]\n",
    "\n",
    "    x_rot = torch.stack([x1 * cos - x2 * sin,\n",
    "                         x1 * sin + x2 * cos], dim=-1)\n",
    "    return x_rot.flatten(-2)\n",
    "\n",
    "B, H, L, d_h = 2, 4, 128, 64\n",
    "x = torch.randn(B, H, L, d_h, dtype=torch.bfloat16, device=\"cpu\")\n",
    "\n",
    "cos, sin = Computing_RoPE_params(theta=10000, dim=d_h, seq_len=L, dtype=torch.bfloat16)\n",
    "x_rope = Apply_RoPE(x, cos, sin)\n",
    "\n",
    "print(x_rope.shape)  # [2, 4, 128, 64]"
   ]
  }
 ],
 "metadata": {
  "kernelspec": {
   "display_name": ".venv",
   "language": "python",
   "name": "python3"
  },
  "language_info": {
   "codemirror_mode": {
    "name": "ipython",
    "version": 3
   },
   "file_extension": ".py",
   "mimetype": "text/x-python",
   "name": "python",
   "nbconvert_exporter": "python",
   "pygments_lexer": "ipython3",
   "version": "3.9.6"
  }
 },
 "nbformat": 4,
 "nbformat_minor": 5
}
